{
 "cells": [
  {
   "cell_type": "code",
   "execution_count": 16,
   "metadata": {},
   "outputs": [],
   "source": [
    "from langchain.document_loaders.url import UnstructuredURLLoader"
   ]
  },
  {
   "cell_type": "code",
   "execution_count": 17,
   "metadata": {},
   "outputs": [],
   "source": [
    "from langchain.document_loaders.url import UnstructuredURLLoader"
   ]
  },
  {
   "cell_type": "code",
   "execution_count": 18,
   "metadata": {},
   "outputs": [],
   "source": [
    "from langchain_google_genai import GoogleGenerativeAIEmbeddings\n",
    "import os\n",
    "from dotenv import load_dotenv\n",
    "import google.generativeai as genai\n",
    "from langchain_google_genai import ChatGoogleGenerativeAI\n",
    "from langchain.document_loaders.url import UnstructuredURLLoader\n",
    "\n",
    "from langchain.text_splitter import CharacterTextSplitter\n",
    "from langchain_community.vectorstores.faiss import FAISS\n",
    "from langchain.chains import RetrievalQA\n",
    "from langchain.prompts import PromptTemplate\n"
   ]
  },
  {
   "cell_type": "code",
   "execution_count": 19,
   "metadata": {},
   "outputs": [],
   "source": [
    "URLs=[\n",
    "    \"https://www.potentiam.co.uk/\",\n",
    "    \"https://www.potentiam.co.uk/about-us\",\n",
    "    \"https://blog.potentiam.co.uk/\"\n",
    "]\n",
    "\n",
    "def DataLoader():\n",
    "    loader=UnstructuredURLLoader(urls=URLs)\n",
    "    data=loader.load()\n",
    "    return data"
   ]
  },
  {
   "cell_type": "code",
   "execution_count": 20,
   "metadata": {},
   "outputs": [],
   "source": [
    "data=DataLoader()"
   ]
  },
  {
   "cell_type": "code",
   "execution_count": 21,
   "metadata": {},
   "outputs": [
    {
     "data": {
      "text/plain": [
       "[Document(page_content='OFFSHORING PLUS+\\n\\nUnlock your full\\n\\npotential with a\\n\\nglobal team\\n\\nWe help you scale your business in a smarter way by building your offshore team\\n\\nSpeak to an advisor\\n\\nWHAT IS OFFSHORING PLUS+\\n\\nThe step-change for your business ambition and your people\\n\\nPotentiam is much more than an offshoring provider. We are both a business consultancy and an offshore service provider - focused squarely on realising your ambitions and the power of your people.\\n\\nWe partner with your management team to create Offshore Strategies that :\\n\\nEnables 3-5 x faster profitable growth\\n\\nDelivers significant free growth capital\\n\\nUnlocks your most valuable human resources\\n\\nLowers the risk of building new capabilities\\n\\nHow it works\\n\\nTHE POTENTIAM PROCESS\\n\\nHow it works\\n\\nOur experts help you plan, structure, build, integrate and operate outstanding international teams that allow your business and your in-house people to grow.\\n\\nStrategic Options\\n\\nOur strategy consultants understand your business growth goals and match this to the optimal team design and locations.\\n\\nTalent Acquisition\\n\\nYour local recruiter builds detailed \"skills matrices\" for your roles, plans your head hunt and assists in rigorously testing skills.\\n\\nOnboarding & Integration\\n\\nYour dedicated HR partner ensures that every staff member has a great experience in their first days and weeks as well as feeling culturally attuned to your business.\\n\\nTeam Optimisation\\n\\nYour dedicated HR partner builds a plan for every staff member to ensure optimal retention and growth.\\n\\nOUR OFFSHORE  SOLUTIONS\\n\\nOur specialist advisors guide you on the optimal offshore location, team structure and role design to deliver your company objectives\\n\\nTechnology\\n\\nScale your development team with your dedicated applications advisor. Your specialist will identify\\xa0 how to structure the right dev team matching your requirements in architecture, process optimisation, team configuration and performance level.\\n\\nFinance & Accounting\\n\\nYour finance and accounting specialist will advise on the optimal offshore team design to ensure the best overall accounting performance. Our approach follows the right fit processes, tools and offshore accounting skills.\\n\\nMarketing & Creative\\n\\nYour specialist advisor guides you through a structured process for building your own world-class offshore team. They will identify the capability gaps in your sales and marketing process and ensure a smooth integration between your local and offshore team.\\n\\nData Analytics\\n\\nOur background as founders of an energy analytics company acquired by Accenture positions us well to advise on how to scale your offshore data team. We advise on the optimal team design in data acquisition, analysis, engineering or just report creation.\\n\\nSales & Customer Success\\n\\nYour sales and service desk specialist guides you through a structured process for building your own world-class offshore team. Our approach covers data processes, tools, client facing skills, incentives and local infrastructure to deliver your objectives.\\n\\nEngineering & Construction\\n\\nBolster your construction and engineering projects with your own remote team. Have scalable control over your construction plans, budgets, technology, and specific workflows to realise your building projects.\\n\\nWHAT WE DO\\n\\nYour team in our locations\\n\\nOffshoring PLUS+ is building your team under your control in our locations.\\n\\nPotentiam provides strategic guidance, recruitment, HR, payroll, office and IT\\xa0 to make your offshore team a success.\\n\\nYour dedicated permanent staff are recruited specifically for you and cannot and do not work for any other company. You manage them like your own onshore staff without the burden of set-up, local administration or the responsibility of direct employment all supported by a highly experienced teams of HR specialists at Potentiam who are there to help at every stage.\\n\\nContact Us\\n\\nOUR LOCATIONS\\n\\nPotentiam\\'s Offices Around The World\\n\\nRomania\\n\\nIași\\n\\nTime: GMT + 2 hours\\n\\n3 hours direct flight\\n\\nSouth Africa\\n\\nCape Town\\n\\nTime: GMT + 2 hours\\n\\n11 hours direct flight\\n\\nIndia\\n\\nBangalore\\n\\nTime: GMT + 5.5 Hours\\n\\n11 hours direct flight\\n\\nUnited Kingdom\\n\\nLondon\\n\\nTime: GMT\\n\\nTESTIMONIALS\\n\\nWhat Our Customers Say\\n\\nGETTING STARTED\\n\\nThink big, Start small, Scale smart\\n\\nThink Big\\n\\nOur strategic framework for growth will show you how to:\\n\\nOur strategic framework for growth will show you how to:\\n\\n1. Unlock a global talent pool\\n\\n2. Scale your team faster with twice the resource\\n\\n3. Pivot into new product lines and new markets\\n\\n4. Build greater resilience into your business\\n\\nStart Small\\n\\nPilot with as little as one role\\n\\nScale Smart\\n\\nOur team of HR, recruitment and account managers ensure a seamless, low-risk approach to building out your offshore team in one or more of our locations\\n\\nCASE STUDIES\\n\\nWho offshores?\\n\\nSpacing\\n\\nRead More\\n\\nBLOG\\n\\nRead our latest blog posts\\n\\nSpacing\\n\\nRead More\\n\\nCONTACT US\\n\\nBook a call with one of our offshore strategy consultants.\\n\\nWe can help you tailor a strategy that:\\n\\nEnables 3-5 x faster profitable growth\\n\\nDelivers significant free growth capital\\n\\nUnlocks your most valuable human resources\\n\\nLowers the risk of building new capabilities', metadata={'source': 'https://www.potentiam.co.uk/'}),\n",
       " Document(page_content=\"Who is Potentiam?\\n\\nORIGINS\\n\\nWhere it all started\\n\\nChristopher Lydiard-Wilson and Charles Fenton founded Potentiam following their experience of running a global energy consultancy acquired by Accenture with over 60% of their 300 staff in Romania and India.\\n\\nEnergyQuote JHA, our energy services business had multiple service lines in procurement, risk management, data analytics, sustainability reporting and strategic consulting being delivered to international corporations globally.\\n\\nOur challenge\\xa0was how could we balance our ambitious growth plans with a limited management bandwidth , available talent and tight budgets.\\n\\nBy unlocking the power of offshore capabilities, Christopher and Charles were able to scale far faster than their competitors. Our offshore teams turned EnergyQuote JHA into a leading global energy services provider, and ultimately, a valuable exit to Accenture in 2015.\\n\\nTeams in Romania and Bangalore enabled its founders to extract a far higher valuation without the need for equity dilution or debilitating debt.\\n\\nCost savings was a consideration, but in fact 5 times more value was realised from their offshore teams, in areas not at all evident at the beginning of our scaling journey.\\xa0Our offshore teams transformed our business, and allowed us to:\\n\\nDeliver our 5 year technology and data road map in 2 years,\\n\\nAccess to technical skills we could not find locally,\\n\\nunlock the most valuable capacity of our senior staff by providing very capable resource earlier in their growth journey,\\n\\nInnovate faster with new services with less risk\\n\\nConfidence to expand globally resulting in a far more valuable exit.\\n\\nThis led to Christopher and Charles to start working for their network of business owners to scale their own businesses using their in-depth knowledge of offshore locations and best practises and so Potentiam was born.\\n\\nMeet the Team\\n\\nConnect with Christopher on LinkedIn\\n\\nChristopher Lydiard-Wilson\\n\\nFounder Director\\n\\nChristopher was an early adopter of offshoring in Romania and India at EnergyQuote JHA, an energy consultancy he founded serving over 400 corporations globally.\\n\\nBy the point of sale to Accenture in 2015 he had built up an off shore team of over 200 staff in multiple functions supporting a fast growing strategic team in the UK and Europe.\\n\\nIn 2016 Christopher founded Potentiam to offer the benefits of offshoring to small and medium sized enterprises from offices in Romania, India and South Africa.\\n\\nConnect with Charles on LinkedIn\\n\\nCharles Fenton\\n\\nFounder Director\\n\\nCharles was the founder of the international consultancy at EnergyQuote JHA and an early convert to offshoring as the only way to provide a scalable global platform for a global energy consultancy.\\n\\nAs part of the Accenture acquisition in 2015, Charles went on to lead the European energy practice, developing an extensive multi lingual support team in Romania.\\n\\nHe has a BA Degree in History from London University\\n\\nConnect with Shafeequr on LinkedIn\\n\\nShafeequr Rahman\\n\\nCo-Founder, VP India\\n\\nHas 20 years of experience in managing software development programs, the last 4 years at Accenture in energy technology.\\n\\nHis greatest strengths are in team recruitment, people management, technical reviews and delivery control.\\n\\nShafeequr has a MBA in information technology\\n\\nConnect with Chantal on LinkedIn\\n\\nChantal Endemann\\n\\nGlobal Head of HR& Head of South Africa\\n\\nGlobal HR Manager with 15 years’ experience in technology, retail and hospitality environments across multi-location sites.\\n\\nAdvisor to senior management teams on strategic and operational HR from talent management, career development, organizational design and scalability,\\n\\nConnect with Cristina on LinkedIn\\n\\nCristina Ichim\\n\\nHead of Romania HR\\n\\nCristina is exceptionally experienced with over 15 years of HR and management experience working for international companies in Romania.\\xa0Her areas of expertise include Talent Acquisition, Employer Branding, People Development, HR Digitalization, Reporting, Administration, Project Management.\\u202f\\xa0Cristina's passion lies in equipping fast-growing businesses with the teams they need to thrive.\\n\\nConnect with Anine on LinkedIn\\n\\nAnine Pretorius\\n\\nHead of Talent Acquisition South Africa\\n\\nWith an Honours degree in Industrial and Organizational Psychology, Anine has over a decade’s experience in HR and Recruitment. Her experience spans across a wide range of local and international industries, including call centres, retail and FMCG. \\xa0She is passionate about helping SMEs accelerate their business growth by finding the perfect candidate for every role, and building strong, successful teams with cohesive cultures.\\n\\nConnect with Tyrone on LinkedIn\\n\\nTyrone Bester\\n\\nGlobal Account Manager\\n\\nHaving worked in the UK and Europe for over 14 years, and with a background in set-up, registration and operational support of over 40 subsidiaries and offshore Companies, Tyrone’s extensive experience and knowledge of cross-border challenges is invaluable in helping Companies scale their organisation and core teams in offshore locations.\\n\\nCurrently based in Cape Town South Africa, Tyrone works with Potentiam’s existing key Clients globally to ensure they meet their operational goals through the coordination of Potentiam’s internal teams to support Client business scaling from both a long-term strategic planning and execution perspective.\\n\\nConnect with Laurika on LinkedIn\\n\\nLaurika Du Preez\\n\\nGlobal Account Manager\\n\\nLaurika holds a Bachelor’s and Honors degree in Psychology and has extensive\\n\\nLaurika holds a Bachelor’s and Honors degree in Psychology and has extensive\\n\\nexperience in leading effective operations, people and business development functions while providing a high\\n\\nstandard of service and value to clients by building strong relationships focused on operational excellence. Reputed for delivering strategic leadership by managing\\n\\nopportunities consistent with the clients’ strategy for revenue growth. Commercially astute with a strong understanding of business, driving customer advocacy and fostering positive stakeholder relationships. \\xa0Laurika’s professional background is mainly from the contractual labour and soft services industry.\\n\\nCONTACT US\\n\\nBook a call with one of our offshore strategy consultants.\\n\\nWe can help you tailor a strategy that:\\n\\nEnables 3-5 x faster profitable growth\\n\\nDelivers significant free growth capital\\n\\nUnlocks your most valuable human resources\\n\\nLowers the risk of building new capabilities\\n\\nOUR LOCATIONS\\n\\nPotentiam's Offices Around The World\\n\\nLași, Romania\\n\\nOffshore Location\\n\\nTime: GMT + 2 hours\\n\\n3 hours direct flight\\n\\nCape Town, South Africa\\n\\nOffshore Location\\n\\nTime: GMT + 2 hours\\n\\n11 hours direct flight\\n\\nBangalore, India\\n\\nOffshore Location\\n\\nTime: GMT + 5.5 Hours\\n\\n11 hours direct flight\\n\\nLondon, UK\\n\\nHead Office\\n\\nTime: GMT\\n\\nMaps\\n\\nLondon\\n\\nCape Town\\n\\nBangalore\\n\\nIași\", metadata={'source': 'https://www.potentiam.co.uk/about-us'}),\n",
       " Document(page_content='Test\\n\\nOffshoring Teams: The Ultimate CEO Guide\\n\\nOffshoring or nearshoring is the practice of hiring a team(s) from a developing country where labour costs are lower to enable a business to scale faster, gain access to a wider pool of talent, and...\\n\\nRead More\\n\\nHow an integrated UK and South African team built a global community platform for alumni.\\n\\nCase Study\\n\\nAluminati has established itself as the preferred platform for Alumni Communities. As a result, they are experiencing tremendous growth. Aluminati have built their success on a people-focussed...\\n\\nRead More\\n\\nHow an international manufacturer achieved a 94% customer service rating with their offshore team\\n\\nCase Study\\n\\nAbout Kane InternationalKane International has dominated the manufacture and supply of hand-held exhaust emissions testers in the UK and globally for 60 years. The family business pride themselves on...\\n\\nRead More\\n\\nHow a Danish company scaled their software development team with offshoring\\n\\nCase Study\\n\\nNotora - a leading ERP Consultancy in Denmark – could not grow their business because they were struggling to find developers locally [struggle with capacity]. Potentiam helped them create an...\\n\\nRead More\\n\\n5 reasons why a global talent pool will benefit your business\\n\\nIT & Software\\n\\nBlog\\n\\nCharles never envisioned that sales or marketing could benefit from offshore capabilities. Client-facing roles that depended on native language skills and a good cultural grasp of local regions was...\\n\\nRead More\\n\\nInsource vs Outsource: Which is the right way to scale your company?\\n\\nMarketing & Creative\\n\\nBlog\\n\\nRead More\\n\\nNext\\n\\nLast\\n\\nCategories\\n\\nBlog\\n\\nCase Studies\\n\\nSocial Media\\n\\nFollow us on LinkedIn\\n\\nFollow us on Facebook\\n\\nFollow us on Twitter\\n\\nTags\\n\\nBlog\\n\\nCase Study\\n\\nIT & Software\\n\\nData Analytics\\n\\nFinance & Accounting\\n\\nMarketing & Creative\\n\\nSUBSCRIBE TO OUR NEWSLETTER\\n\\nNever miss out on our latest news', metadata={'source': 'https://blog.potentiam.co.uk/'})]"
      ]
     },
     "execution_count": 21,
     "metadata": {},
     "output_type": "execute_result"
    }
   ],
   "source": [
    "\n",
    "data"
   ]
  },
  {
   "cell_type": "code",
   "execution_count": 22,
   "metadata": {},
   "outputs": [],
   "source": [
    "text_splitter=CharacterTextSplitter(separator='\\n',\n",
    "                                    chunk_size=500,\n",
    "                                    chunk_overlap=50)\n",
    "\n",
    "text_chunks=text_splitter.split_documents(data)"
   ]
  },
  {
   "cell_type": "code",
   "execution_count": 23,
   "metadata": {},
   "outputs": [],
   "source": [
    "load_dotenv()\n",
    "google_api_key=os.getenv(\"GOOGLE_API_KEY\")\n",
    "genai.configure(api_key=google_api_key)\n",
    "\n",
    "llm = ChatGoogleGenerativeAI(model=\"gemini-pro\")\n",
    "\n",
    "embeddings = GoogleGenerativeAIEmbeddings(model=\"models/embedding-001\")"
   ]
  },
  {
   "cell_type": "code",
   "execution_count": 24,
   "metadata": {},
   "outputs": [],
   "source": [
    "db = FAISS.from_documents(text_chunks, embeddings)\n",
    "db.save_local(\"vectorstore\")\n"
   ]
  },
  {
   "cell_type": "code",
   "execution_count": 25,
   "metadata": {},
   "outputs": [],
   "source": [
    "custom_prompt_template = \"\"\"Use the following pieces of information to answer the user's question.\n",
    "If you don't know the answer, just say that you don't know, don't try to make up an answer.\n",
    "\n",
    "Context: {context}\n",
    "Question: {question}\n",
    "\n",
    "Only return the helpful answer below and nothing else.\n",
    "Helpful answer:\n",
    "\"\"\"\n",
    "\n",
    "prompt = PromptTemplate(template=custom_prompt_template,\n",
    "                            input_variables=['context', 'question'])\n",
    "\n",
    "qa_chain = RetrievalQA.from_chain_type(llm=llm,\n",
    "                                       chain_type='stuff',\n",
    "                                       retriever=db.as_retriever(search_kwargs={'k': 2}),\n",
    "                                       return_source_documents=True,\n",
    "                                       chain_type_kwargs={'prompt': prompt}\n",
    "                                       )"
   ]
  },
  {
   "cell_type": "code",
   "execution_count": 26,
   "metadata": {},
   "outputs": [
    {
     "name": "stdout",
     "output_type": "stream",
     "text": [
      "Potentiam is a business consultancy and offshore service provider that helps businesses scale their operations by building offshore teams.\n"
     ]
    }
   ],
   "source": [
    "query='tell me about Potentiam'\n",
    "result=qa_chain.invoke(query)\n",
    "print(result[\"result\"])"
   ]
  },
  {
   "cell_type": "code",
   "execution_count": 27,
   "metadata": {},
   "outputs": [
    {
     "name": "stdout",
     "output_type": "stream",
     "text": [
      "Christopher Lydiard-Wilson\n"
     ]
    }
   ],
   "source": [
    "query='Who is the founder of Potentiam'\n",
    "result=qa_chain.invoke(query)\n",
    "print(result[\"result\"])"
   ]
  },
  {
   "cell_type": "code",
   "execution_count": 29,
   "metadata": {},
   "outputs": [
    {
     "name": "stdout",
     "output_type": "stream",
     "text": [
      "- Lași, Romania\n",
      "- Cape Town, South Africa\n",
      "- Bangalore, India\n",
      "- London, UK\n"
     ]
    }
   ],
   "source": [
    "query='Name the cities where Potentiam is located'\n",
    "result=qa_chain.invoke(query)\n",
    "print(result[\"result\"])"
   ]
  },
  {
   "cell_type": "code",
   "execution_count": 30,
   "metadata": {},
   "outputs": [
    {
     "name": "stdout",
     "output_type": "stream",
     "text": [
      "I don't know.\n"
     ]
    }
   ],
   "source": [
    "query='Potentiam is IT or non IT company'\n",
    "result=qa_chain.invoke(query)\n",
    "print(result[\"result\"])"
   ]
  },
  {
   "cell_type": "code",
   "execution_count": 31,
   "metadata": {},
   "outputs": [
    {
     "name": "stdout",
     "output_type": "stream",
     "text": [
      "Potentiam is both a business consultancy and an offshore service provider, focused on realizing your ambitions and the power of your people.\n"
     ]
    }
   ],
   "source": [
    "query='what is the buisness activities of potentiam'\n",
    "result=qa_chain.invoke(query)\n",
    "print(result[\"result\"])"
   ]
  },
  {
   "cell_type": "code",
   "execution_count": 33,
   "metadata": {},
   "outputs": [
    {
     "name": "stdout",
     "output_type": "stream",
     "text": [
      "Christopher Lydiard-Wilson and Charles Fenton\n"
     ]
    }
   ],
   "source": [
    "query='Name the key peoples involved in building potentiam company'\n",
    "result=qa_chain.invoke(query)\n",
    "print(result[\"result\"])"
   ]
  },
  {
   "cell_type": "code",
   "execution_count": null,
   "metadata": {},
   "outputs": [],
   "source": []
  }
 ],
 "metadata": {
  "kernelspec": {
   "display_name": "Python 3",
   "language": "python",
   "name": "python3"
  },
  "language_info": {
   "codemirror_mode": {
    "name": "ipython",
    "version": 3
   },
   "file_extension": ".py",
   "mimetype": "text/x-python",
   "name": "python",
   "nbconvert_exporter": "python",
   "pygments_lexer": "ipython3",
   "version": "3.10.0"
  }
 },
 "nbformat": 4,
 "nbformat_minor": 2
}
